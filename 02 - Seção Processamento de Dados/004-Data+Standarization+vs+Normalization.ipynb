{
 "cells": [
  {
   "cell_type": "markdown",
   "id": "70d95c4e",
   "metadata": {
    "id": "70d95c4e"
   },
   "source": [
    "# Data Standarization vs Normalization\n"
   ]
  },
  {
   "cell_type": "markdown",
   "id": "caed6ca2",
   "metadata": {
    "id": "caed6ca2"
   },
   "source": [
    "### Importing the libraries"
   ]
  },
  {
   "cell_type": "code",
   "execution_count": null,
   "id": "70dc5a40",
   "metadata": {
    "id": "70dc5a40"
   },
   "outputs": [],
   "source": [
    "import numpy as np\n",
    "import pandas as pd\n",
    "import matplotlib.pyplot as plt"
   ]
  },
  {
   "cell_type": "markdown",
   "id": "7ec3d05f",
   "metadata": {
    "id": "7ec3d05f"
   },
   "source": [
    "### Importing Dataset"
   ]
  },
  {
   "cell_type": "code",
   "execution_count": null,
   "id": "8d3aee0c",
   "metadata": {
    "id": "8d3aee0c"
   },
   "outputs": [],
   "source": [
    "df = pd.read_excel('004-Dataset(a).xlsx')"
   ]
  },
  {
   "cell_type": "code",
   "execution_count": null,
   "id": "a5490708",
   "metadata": {},
   "outputs": [],
   "source": [
    "df"
   ]
  },
  {
   "cell_type": "code",
   "execution_count": null,
   "id": "fb2298bd",
   "metadata": {},
   "outputs": [],
   "source": [
    "df.describe()"
   ]
  },
  {
   "cell_type": "code",
   "execution_count": null,
   "id": "aa41b058",
   "metadata": {},
   "outputs": [],
   "source": [
    "ax = df.plot.kde()"
   ]
  },
  {
   "cell_type": "markdown",
   "id": "223714d7",
   "metadata": {},
   "source": [
    "### Standarization vs Normalization"
   ]
  },
  {
   "cell_type": "code",
   "execution_count": null,
   "id": "203c4e24",
   "metadata": {},
   "outputs": [],
   "source": [
    "minvalue_series = df.min()\n",
    "maxvalue_series = df.max()\n",
    "stdvalue_series = df.std()\n",
    "meanvalue_series = df.mean()"
   ]
  },
  {
   "cell_type": "code",
   "execution_count": null,
   "id": "84ae3d2c",
   "metadata": {},
   "outputs": [],
   "source": [
    "print(minvalue_series[0])\n",
    "print(maxvalue_series[0])\n",
    "print(stdvalue_series[0])\n",
    "print(meanvalue_series[0])"
   ]
  },
  {
   "cell_type": "code",
   "execution_count": null,
   "id": "3ae08f17",
   "metadata": {},
   "outputs": [],
   "source": [
    "df.iloc[0,0]"
   ]
  },
  {
   "cell_type": "code",
   "execution_count": null,
   "id": "643142f3",
   "metadata": {},
   "outputs": [],
   "source": [
    "x_Normalization = (df.iloc[0,0]-minvalue_series[0])/(maxvalue_series[0]-minvalue_series[0])\n",
    "x_Normalization"
   ]
  },
  {
   "cell_type": "code",
   "execution_count": null,
   "id": "12bb5061",
   "metadata": {},
   "outputs": [],
   "source": [
    "x_Standardization = (df.iloc[0,0]-meanvalue_series[0])/stdvalue_series[0]\n",
    "x_Standardization "
   ]
  },
  {
   "cell_type": "markdown",
   "id": "5f9466cf",
   "metadata": {},
   "source": [
    "### Data Standardization"
   ]
  },
  {
   "cell_type": "code",
   "execution_count": null,
   "id": "b6df63a7",
   "metadata": {},
   "outputs": [],
   "source": [
    "from sklearn.preprocessing import StandardScaler"
   ]
  },
  {
   "cell_type": "markdown",
   "id": "8354f285",
   "metadata": {},
   "source": [
    "StandardScaler:\n",
    "\n",
    "https://scikit-learn.org/stable/modules/generated/sklearn.preprocessing.StandardScaler.html"
   ]
  },
  {
   "cell_type": "code",
   "execution_count": null,
   "id": "cbec9fef",
   "metadata": {},
   "outputs": [],
   "source": [
    "scaler = StandardScaler()"
   ]
  },
  {
   "cell_type": "code",
   "execution_count": null,
   "id": "5591bfc0",
   "metadata": {},
   "outputs": [],
   "source": [
    "scaler.fit(df)"
   ]
  },
  {
   "cell_type": "code",
   "execution_count": null,
   "id": "535deaac",
   "metadata": {},
   "outputs": [],
   "source": [
    "scaler.transform(df)"
   ]
  },
  {
   "cell_type": "code",
   "execution_count": null,
   "id": "1ed48a85",
   "metadata": {},
   "outputs": [],
   "source": [
    "ScalerData = pd.DataFrame(data=scaler.transform(df))\n",
    "ScalerData.columns = ['X1', 'X2', 'Y']"
   ]
  },
  {
   "cell_type": "code",
   "execution_count": null,
   "id": "77008036",
   "metadata": {},
   "outputs": [],
   "source": [
    "ScalerData"
   ]
  },
  {
   "cell_type": "code",
   "execution_count": null,
   "id": "117140da",
   "metadata": {},
   "outputs": [],
   "source": [
    "ScalerData.describe()"
   ]
  },
  {
   "cell_type": "code",
   "execution_count": null,
   "id": "14bfdaef",
   "metadata": {},
   "outputs": [],
   "source": [
    "ax = ScalerData.plot.kde()"
   ]
  },
  {
   "cell_type": "markdown",
   "id": "5000ad34",
   "metadata": {
    "id": "5000ad34"
   },
   "source": [
    "### Data Normalization"
   ]
  },
  {
   "cell_type": "code",
   "execution_count": null,
   "id": "a2b74aa8",
   "metadata": {},
   "outputs": [],
   "source": [
    "from sklearn.preprocessing import Normalizer"
   ]
  },
  {
   "cell_type": "markdown",
   "id": "2f34ab8f",
   "metadata": {
    "colab": {
     "base_uri": "https://localhost:8080/"
    },
    "id": "fa707a3c",
    "outputId": "4c432533-ebf7-4171-9066-6abe10ddaaf2"
   },
   "source": [
    "Normalizer:\n",
    "\n",
    "https://scikit-learn.org/stable/modules/generated/sklearn.preprocessing.normalize.html"
   ]
  },
  {
   "cell_type": "code",
   "execution_count": null,
   "id": "5d9d339d",
   "metadata": {},
   "outputs": [],
   "source": [
    "transformer=Normalizer()"
   ]
  },
  {
   "cell_type": "code",
   "execution_count": null,
   "id": "36bf571d",
   "metadata": {},
   "outputs": [],
   "source": [
    "transformer.fit(df)"
   ]
  },
  {
   "cell_type": "code",
   "execution_count": null,
   "id": "42d1048e",
   "metadata": {},
   "outputs": [],
   "source": [
    "NormalizerData = pd.DataFrame(data=transformer.transform(df))\n",
    "NormalizerData.columns = ['X1', 'X2', 'Y']"
   ]
  },
  {
   "cell_type": "code",
   "execution_count": null,
   "id": "dc4ac91d",
   "metadata": {},
   "outputs": [],
   "source": [
    "NormalizerData"
   ]
  },
  {
   "cell_type": "code",
   "execution_count": null,
   "id": "48c84b8a",
   "metadata": {},
   "outputs": [],
   "source": [
    "NormalizerData.describe()"
   ]
  },
  {
   "cell_type": "code",
   "execution_count": null,
   "id": "0fb575cc",
   "metadata": {},
   "outputs": [],
   "source": [
    "ax = NormalizerData.plot.kde()"
   ]
  },
  {
   "cell_type": "markdown",
   "id": "9b42a84e",
   "metadata": {},
   "source": [
    "### Read Suggestion"
   ]
  },
  {
   "cell_type": "markdown",
   "id": "5f1d850a",
   "metadata": {},
   "source": [
    "Compare the effect of different scalers on data with outliers:\n",
    "\n",
    "https://scikit-learn.org/stable/auto_examples/preprocessing/plot_all_scaling.html"
   ]
  }
 ],
 "metadata": {
  "colab": {
   "provenance": []
  },
  "hide_input": false,
  "kernelspec": {
   "display_name": "Python 3 (ipykernel)",
   "language": "python",
   "name": "python3"
  },
  "language_info": {
   "codemirror_mode": {
    "name": "ipython",
    "version": 3
   },
   "file_extension": ".py",
   "mimetype": "text/x-python",
   "name": "python",
   "nbconvert_exporter": "python",
   "pygments_lexer": "ipython3",
   "version": "3.8.15"
  }
 },
 "nbformat": 4,
 "nbformat_minor": 5
}
