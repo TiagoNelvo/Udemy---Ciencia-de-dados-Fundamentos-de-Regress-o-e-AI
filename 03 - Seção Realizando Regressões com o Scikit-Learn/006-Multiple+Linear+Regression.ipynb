{
 "cells": [
  {
   "cell_type": "markdown",
   "id": "70d95c4e",
   "metadata": {
    "id": "70d95c4e"
   },
   "source": [
    "# Multiple Linear Regression\n"
   ]
  },
  {
   "cell_type": "markdown",
   "id": "caed6ca2",
   "metadata": {
    "id": "caed6ca2"
   },
   "source": [
    "### Importing the libraries"
   ]
  },
  {
   "cell_type": "code",
   "execution_count": null,
   "id": "70dc5a40",
   "metadata": {
    "id": "70dc5a40"
   },
   "outputs": [],
   "source": [
    "import numpy as np\n",
    "import pandas as pd\n",
    "import matplotlib.pyplot as plt"
   ]
  },
  {
   "cell_type": "markdown",
   "id": "d75fd623",
   "metadata": {},
   "source": [
    "### Set Default Parameters - To make this notebook's output stable across runs"
   ]
  },
  {
   "cell_type": "code",
   "execution_count": null,
   "id": "907cb886",
   "metadata": {},
   "outputs": [],
   "source": [
    "default_test_size = 0.2"
   ]
  },
  {
   "cell_type": "code",
   "execution_count": null,
   "id": "c4268d33",
   "metadata": {},
   "outputs": [],
   "source": [
    "seed = 42"
   ]
  },
  {
   "cell_type": "markdown",
   "id": "7ec3d05f",
   "metadata": {
    "id": "7ec3d05f"
   },
   "source": [
    "### Importing Dataset"
   ]
  },
  {
   "cell_type": "code",
   "execution_count": null,
   "id": "8d3aee0c",
   "metadata": {
    "id": "8d3aee0c"
   },
   "outputs": [],
   "source": [
    "df = pd.read_excel('006-Dataset.xlsx')\n",
    "X = df.iloc[:, :-1].values\n",
    "y = df.iloc[:, -1].values"
   ]
  },
  {
   "cell_type": "code",
   "execution_count": null,
   "id": "a5490708",
   "metadata": {},
   "outputs": [],
   "source": [
    "df"
   ]
  },
  {
   "cell_type": "code",
   "execution_count": null,
   "id": "fb2298bd",
   "metadata": {},
   "outputs": [],
   "source": [
    "df.describe()"
   ]
  },
  {
   "cell_type": "markdown",
   "id": "7043b6b0",
   "metadata": {},
   "source": [
    "### Splitting the dataset into the Training set and Test set"
   ]
  },
  {
   "cell_type": "code",
   "execution_count": null,
   "id": "f0db013c",
   "metadata": {},
   "outputs": [],
   "source": [
    "from sklearn.model_selection import train_test_split"
   ]
  },
  {
   "cell_type": "code",
   "execution_count": null,
   "id": "13dcd68a",
   "metadata": {},
   "outputs": [],
   "source": [
    "X_train, X_test, y_train, y_test = train_test_split(X, y, \n",
    "                                                    test_size = default_test_size, \n",
    "                                                    random_state = seed)"
   ]
  },
  {
   "cell_type": "markdown",
   "id": "5000ad34",
   "metadata": {
    "id": "5000ad34"
   },
   "source": [
    "### Regression Fit"
   ]
  },
  {
   "cell_type": "code",
   "execution_count": null,
   "id": "a2b74aa8",
   "metadata": {},
   "outputs": [],
   "source": [
    "from sklearn.linear_model import LinearRegression"
   ]
  },
  {
   "cell_type": "markdown",
   "id": "b54569ce",
   "metadata": {},
   "source": [
    "https://scikit-learn.org/stable/modules/generated/sklearn.linear_model.LinearRegression.html#sklearn.linear_model.LinearRegression"
   ]
  },
  {
   "cell_type": "code",
   "execution_count": null,
   "id": "fa707a3c",
   "metadata": {
    "colab": {
     "base_uri": "https://localhost:8080/"
    },
    "id": "fa707a3c",
    "outputId": "4c432533-ebf7-4171-9066-6abe10ddaaf2"
   },
   "outputs": [],
   "source": [
    "regressor = LinearRegression()\n",
    "regressor.fit(X, y)"
   ]
  },
  {
   "cell_type": "code",
   "execution_count": null,
   "id": "4qs8O9COL7Fi",
   "metadata": {
    "colab": {
     "base_uri": "https://localhost:8080/"
    },
    "id": "4qs8O9COL7Fi",
    "outputId": "481b6aff-32d4-424e-d775-110bf95b8572"
   },
   "outputs": [],
   "source": [
    "regressor.score(X_test, y_test)"
   ]
  },
  {
   "cell_type": "code",
   "execution_count": null,
   "id": "2373bd3d",
   "metadata": {},
   "outputs": [],
   "source": [
    "print(regressor.coef_)\n",
    "print(regressor.intercept_)"
   ]
  },
  {
   "cell_type": "code",
   "execution_count": null,
   "id": "942f0f37",
   "metadata": {},
   "outputs": [],
   "source": [
    "print(regressor.predict([[10, 13]]))"
   ]
  },
  {
   "cell_type": "markdown",
   "id": "e309e75e",
   "metadata": {},
   "source": [
    "Therefore, the equation of our multiple linear regression model is:\n",
    "\n",
    "$$\\textrm{y} = 1.01 \\times \\textrm{X1} + 2.0 \\times \\textrm{X2} + 4.28$$"
   ]
  },
  {
   "cell_type": "markdown",
   "id": "TYXF6ja51hAu",
   "metadata": {
    "id": "TYXF6ja51hAu"
   },
   "source": [
    "## Plot Regression"
   ]
  },
  {
   "cell_type": "code",
   "execution_count": null,
   "id": "CJNu3mJR1Xv8",
   "metadata": {
    "colab": {
     "base_uri": "https://localhost:8080/",
     "height": 295
    },
    "id": "CJNu3mJR1Xv8",
    "outputId": "3a8b5304-4b43-47d3-fd30-b4b2d835fa52",
    "scrolled": true
   },
   "outputs": [],
   "source": [
    "y_pred = regressor.predict(X_test)\n",
    "plt.scatter(y_test, y_pred)\n",
    "plt.title('Multiple Linear Regression')\n",
    "plt.xlabel('Real Data')\n",
    "plt.ylabel('Predicted Data')\n",
    "plt.plot(y_test,y_test,c='r')\n",
    "plt.show()"
   ]
  },
  {
   "cell_type": "code",
   "execution_count": null,
   "id": "4a89955c",
   "metadata": {},
   "outputs": [],
   "source": []
  }
 ],
 "metadata": {
  "colab": {
   "provenance": []
  },
  "hide_input": false,
  "kernelspec": {
   "display_name": "Python 3 (ipykernel)",
   "language": "python",
   "name": "python3"
  },
  "language_info": {
   "codemirror_mode": {
    "name": "ipython",
    "version": 3
   },
   "file_extension": ".py",
   "mimetype": "text/x-python",
   "name": "python",
   "nbconvert_exporter": "python",
   "pygments_lexer": "ipython3",
   "version": "3.8.15"
  }
 },
 "nbformat": 4,
 "nbformat_minor": 5
}
