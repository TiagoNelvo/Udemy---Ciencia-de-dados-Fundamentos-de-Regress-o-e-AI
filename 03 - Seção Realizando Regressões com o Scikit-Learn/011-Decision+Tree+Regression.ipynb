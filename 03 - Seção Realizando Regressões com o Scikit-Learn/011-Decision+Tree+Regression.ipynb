{
 "cells": [
  {
   "cell_type": "markdown",
   "id": "70d95c4e",
   "metadata": {},
   "source": [
    "# Decision Tree Regression"
   ]
  },
  {
   "cell_type": "markdown",
   "id": "caed6ca2",
   "metadata": {},
   "source": [
    "### Importing the libraries"
   ]
  },
  {
   "cell_type": "code",
   "execution_count": null,
   "id": "70dc5a40",
   "metadata": {},
   "outputs": [],
   "source": [
    "import numpy as np\n",
    "import matplotlib.pyplot as plt\n",
    "import pandas as pd\n",
    "import math"
   ]
  },
  {
   "cell_type": "markdown",
   "id": "fb2509a4",
   "metadata": {},
   "source": [
    "### Set Default Parameters - To make this notebook's output stable across runs"
   ]
  },
  {
   "cell_type": "code",
   "execution_count": null,
   "id": "69c0ad40",
   "metadata": {},
   "outputs": [],
   "source": [
    "default_test_size = 0.2"
   ]
  },
  {
   "cell_type": "code",
   "execution_count": null,
   "id": "8bfa0d59",
   "metadata": {},
   "outputs": [],
   "source": [
    "seed = 42"
   ]
  },
  {
   "cell_type": "markdown",
   "id": "7ec3d05f",
   "metadata": {},
   "source": [
    "### Importing the dataset"
   ]
  },
  {
   "cell_type": "code",
   "execution_count": null,
   "id": "621d6dc0",
   "metadata": {},
   "outputs": [],
   "source": [
    "df = pd.read_excel('011-Dataset.xlsx')\n",
    "X = df.iloc[:, :-1].values\n",
    "y = df.iloc[:, -1].values"
   ]
  },
  {
   "cell_type": "code",
   "execution_count": null,
   "id": "70585112",
   "metadata": {},
   "outputs": [],
   "source": [
    "df"
   ]
  },
  {
   "cell_type": "code",
   "execution_count": null,
   "id": "7ad7b474",
   "metadata": {},
   "outputs": [],
   "source": [
    "df.describe()"
   ]
  },
  {
   "cell_type": "markdown",
   "id": "cc51b36d",
   "metadata": {},
   "source": [
    "### Create Pipeline with a StandardScaler and a Regressor"
   ]
  },
  {
   "cell_type": "code",
   "execution_count": null,
   "id": "74f39e4b",
   "metadata": {},
   "outputs": [],
   "source": [
    "from sklearn.pipeline import Pipeline\n",
    "from sklearn.preprocessing import StandardScaler\n",
    "from sklearn.tree import DecisionTreeRegressor\n",
    "from sklearn.model_selection import train_test_split\n",
    "from sklearn.model_selection import GridSearchCV"
   ]
  },
  {
   "cell_type": "markdown",
   "id": "a4483928",
   "metadata": {},
   "source": [
    "DecisionTreeRegressor:\n",
    "\n",
    "https://scikit-learn.org/stable/modules/generated/sklearn.tree.DecisionTreeRegressor.html"
   ]
  },
  {
   "cell_type": "code",
   "execution_count": null,
   "id": "0daae021",
   "metadata": {},
   "outputs": [],
   "source": [
    "X_train, X_test, y_train, y_test = train_test_split(X, y, test_size=default_test_size, random_state=seed)"
   ]
  },
  {
   "cell_type": "code",
   "execution_count": null,
   "id": "36cc4e73",
   "metadata": {},
   "outputs": [],
   "source": [
    "pipe = Pipeline([\n",
    "    ('scaler', StandardScaler()), \n",
    "    ('regressor', DecisionTreeRegressor(random_state = seed))\n",
    "    ])"
   ]
  },
  {
   "cell_type": "markdown",
   "id": "5000ad34",
   "metadata": {},
   "source": [
    "### Grid Search with Cross Validation"
   ]
  },
  {
   "cell_type": "code",
   "execution_count": null,
   "id": "df5d1f31",
   "metadata": {},
   "outputs": [],
   "source": [
    "# hyperparameters grid to search within\n",
    "hyperparameters = {'regressor__criterion': ['squared_error', 'friedman_mse', 'absolute_error'],\n",
    "                   'regressor__splitter': ['best', 'random'],\n",
    "                  }"
   ]
  },
  {
   "cell_type": "code",
   "execution_count": null,
   "id": "d0cf2cb3",
   "metadata": {},
   "outputs": [],
   "source": [
    "grid_search = GridSearchCV(pipe, \n",
    "                           param_grid=hyperparameters, \n",
    "                           return_train_score=True, \n",
    "                           scoring='neg_root_mean_squared_error',\n",
    "                           n_jobs=-2,\n",
    "                           cv = 5)"
   ]
  },
  {
   "cell_type": "code",
   "execution_count": null,
   "id": "fa707a3c",
   "metadata": {},
   "outputs": [],
   "source": [
    "grid_search.fit(X_train, y_train)"
   ]
  },
  {
   "cell_type": "code",
   "execution_count": null,
   "id": "415d46ab",
   "metadata": {},
   "outputs": [],
   "source": [
    "# Print Best Hyperparameters\n",
    "cv_best_params = grid_search.best_params_\n",
    "print('\\n Best hyperparameters:')\n",
    "print(cv_best_params)"
   ]
  },
  {
   "cell_type": "markdown",
   "id": "1db60110",
   "metadata": {},
   "source": [
    "### Run model with best hyperparameters"
   ]
  },
  {
   "cell_type": "code",
   "execution_count": null,
   "id": "6dbeb925",
   "metadata": {},
   "outputs": [],
   "source": [
    "from sklearn.metrics import mean_squared_error, mean_absolute_error, mean_absolute_percentage_error, r2_score"
   ]
  },
  {
   "cell_type": "code",
   "execution_count": null,
   "id": "a64eff94",
   "metadata": {},
   "outputs": [],
   "source": [
    "pipe.set_params(**cv_best_params)"
   ]
  },
  {
   "cell_type": "code",
   "execution_count": null,
   "id": "30fcc153",
   "metadata": {},
   "outputs": [],
   "source": [
    "pipe.fit(X_train, y_train)"
   ]
  },
  {
   "cell_type": "code",
   "execution_count": null,
   "id": "aa6a0644",
   "metadata": {},
   "outputs": [],
   "source": [
    "y_test_pred = pipe.predict(X_test)"
   ]
  },
  {
   "cell_type": "markdown",
   "id": "ed91a4cb",
   "metadata": {},
   "source": [
    "### Analysis of Regression Errors"
   ]
  },
  {
   "cell_type": "code",
   "execution_count": null,
   "id": "46a74bce",
   "metadata": {},
   "outputs": [],
   "source": [
    "# Análise dos erros das previsões\n",
    "rmse_test = math.sqrt(mean_squared_error(y_test, y_test_pred))\n",
    "mae_test = mean_absolute_error(y_test, y_test_pred)\n",
    "mape_test = mean_absolute_percentage_error(y_test, y_test_pred)\n",
    "r2_test = r2_score(y_test, y_test_pred)\n",
    "\n",
    "print('RSME     |  MAE     |  MAPE  | R2')\n",
    "print(f'{round(rmse_test,4)} | {round(mae_test,4)} | {round(mape_test,4)} | {round(r2_test,4)}')"
   ]
  },
  {
   "cell_type": "markdown",
   "id": "b6c36b97",
   "metadata": {},
   "source": [
    "### Plot Results"
   ]
  },
  {
   "cell_type": "code",
   "execution_count": null,
   "id": "21e8331e",
   "metadata": {},
   "outputs": [],
   "source": [
    "y_pred = pd.DataFrame(data=pipe.predict(X_test), columns=['Predicted Values'])"
   ]
  },
  {
   "cell_type": "code",
   "execution_count": null,
   "id": "4f1f00b7",
   "metadata": {},
   "outputs": [],
   "source": [
    "y_real = pd.DataFrame(data=y_test, columns=['Real Values']) "
   ]
  },
  {
   "cell_type": "code",
   "execution_count": null,
   "id": "c64bb59e",
   "metadata": {},
   "outputs": [],
   "source": [
    "# Preparation of the comparative DataFrame between the prediction and the actual value\n",
    "\n",
    "df_comparison = pd.concat([y_real, y_pred],axis=1)\n",
    "df_comparison.columns = ['Real_Data','Predicted_Value']\n",
    "df_comparison['Percentage_difference'] = 100*(df_comparison['Predicted_Value'] - df_comparison['Real_Data'])/df_comparison['Real_Data']\n",
    "df_comparison['Average'] = df_comparison['Real_Data'].mean()\n",
    "df_comparison['Q1'] = df_comparison['Real_Data'].quantile(0.25)\n",
    "df_comparison['Q3'] = df_comparison['Real_Data'].quantile(0.75)\n",
    "df_comparison['USL'] = df_comparison['Real_Data'].mean() + 2*df_comparison['Real_Data'].std()\n",
    "df_comparison['LSL'] = df_comparison['Real_Data'].mean() - 2*df_comparison['Real_Data'].std()\n",
    "\n",
    "df_comparison.sort_index(inplace=True)"
   ]
  },
  {
   "cell_type": "code",
   "execution_count": null,
   "id": "012285f5",
   "metadata": {},
   "outputs": [],
   "source": [
    "df_comparison"
   ]
  },
  {
   "cell_type": "code",
   "execution_count": null,
   "id": "c5a52333",
   "metadata": {},
   "outputs": [],
   "source": [
    "# Graphic visualization of predictions by real values\n",
    "plt.figure(figsize=(25,10))\n",
    "plt.title('Real Value vs Predicted Value', fontsize=25)\n",
    "plt.plot(df_comparison.index, df_comparison['Real_Data'], label = 'Real', marker='D', markersize=10, linewidth=0)\n",
    "plt.plot(df_comparison.index, df_comparison['Predicted_Value'], label = 'Predicted', c='r', linewidth=1.5)\n",
    "plt.plot(df_comparison.index, df_comparison['Average'], label = 'Mean', linestyle='dashed', c='yellow')\n",
    "plt.plot(df_comparison.index, df_comparison['Q1'], label = 'Q1', linestyle='dashed',c='g')\n",
    "plt.plot(df_comparison.index, df_comparison['Q3'], label = 'Q3', linestyle='dashed',c='g')\n",
    "\n",
    "plt.plot(df_comparison.index, df_comparison['USL'], label = 'USL', linestyle='dashed',c='r')\n",
    "plt.plot(df_comparison.index, df_comparison['LSL'], label = 'LSL', linestyle='dashed',c='r')\n",
    "\n",
    "plt.legend(loc='best')\n",
    "plt.legend(fontsize=25)\n",
    "plt.xticks(fontsize=20)\n",
    "plt.yticks(fontsize=20)\n",
    "\n",
    "plt.show()"
   ]
  },
  {
   "cell_type": "code",
   "execution_count": null,
   "id": "94460ac3",
   "metadata": {},
   "outputs": [],
   "source": [
    "# Graphic visualization of predictions by real values\n",
    "plt.figure(figsize=(25,10))\n",
    "plt.title('Real Value vs Predicted Value',fontsize=25)\n",
    "plt.scatter(df_comparison['Real_Data'], df_comparison['Predicted_Value'], s=100)\n",
    "plt.plot(df_comparison['Real_Data'],df_comparison['Real_Data'],c='r')\n",
    "\n",
    "plt.xlabel('Real', fontsize=25)\n",
    "plt.ylabel('Predicted', fontsize=25)\n",
    "plt.xticks(fontsize=20)\n",
    "plt.yticks(fontsize=20)\n",
    "\n",
    "plt.show()"
   ]
  },
  {
   "cell_type": "code",
   "execution_count": null,
   "id": "54e96d7b",
   "metadata": {},
   "outputs": [],
   "source": []
  }
 ],
 "metadata": {
  "hide_input": false,
  "kernelspec": {
   "display_name": "Python 3 (ipykernel)",
   "language": "python",
   "name": "python3"
  },
  "language_info": {
   "codemirror_mode": {
    "name": "ipython",
    "version": 3
   },
   "file_extension": ".py",
   "mimetype": "text/x-python",
   "name": "python",
   "nbconvert_exporter": "python",
   "pygments_lexer": "ipython3",
   "version": "3.8.15"
  }
 },
 "nbformat": 4,
 "nbformat_minor": 5
}
