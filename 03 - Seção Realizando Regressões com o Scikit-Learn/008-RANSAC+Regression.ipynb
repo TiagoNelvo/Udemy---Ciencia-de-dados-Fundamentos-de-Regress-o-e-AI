{
 "cells": [
  {
   "cell_type": "markdown",
   "id": "70d95c4e",
   "metadata": {
    "id": "70d95c4e"
   },
   "source": [
    "# RANSAC (RANdom SAmple Consensus) Regression\n",
    "\n"
   ]
  },
  {
   "cell_type": "markdown",
   "id": "caed6ca2",
   "metadata": {
    "id": "caed6ca2"
   },
   "source": [
    "### Importing the libraries"
   ]
  },
  {
   "cell_type": "code",
   "execution_count": null,
   "id": "70dc5a40",
   "metadata": {
    "id": "70dc5a40"
   },
   "outputs": [],
   "source": [
    "import numpy as np\n",
    "import pandas as pd\n",
    "import matplotlib.pyplot as plt"
   ]
  },
  {
   "cell_type": "markdown",
   "id": "7ec3d05f",
   "metadata": {
    "id": "7ec3d05f"
   },
   "source": [
    "### Importing Dataset"
   ]
  },
  {
   "cell_type": "code",
   "execution_count": null,
   "id": "8d3aee0c",
   "metadata": {
    "id": "8d3aee0c"
   },
   "outputs": [],
   "source": [
    "df = pd.read_excel('008-Dataset.xlsx')\n",
    "X = df.iloc[:, :-1].values\n",
    "y = df.iloc[:, -1].values"
   ]
  },
  {
   "cell_type": "code",
   "execution_count": null,
   "id": "RdeEsrf10jrt",
   "metadata": {
    "colab": {
     "base_uri": "https://localhost:8080/",
     "height": 295
    },
    "id": "RdeEsrf10jrt",
    "outputId": "695dad71-2c39-4b19-b657-7ae48fc3c692"
   },
   "outputs": [],
   "source": [
    "plt.scatter(X, y, color=\"yellowgreen\", marker=\".\")\n",
    "plt.title('Experimental Data')\n",
    "plt.xlabel('X')\n",
    "plt.ylabel('y')\n",
    "plt.show()"
   ]
  },
  {
   "cell_type": "markdown",
   "id": "5000ad34",
   "metadata": {
    "id": "5000ad34"
   },
   "source": [
    "### Regression Fit"
   ]
  },
  {
   "cell_type": "code",
   "execution_count": null,
   "id": "a2b74aa8",
   "metadata": {},
   "outputs": [],
   "source": [
    "from sklearn.linear_model import RANSACRegressor"
   ]
  },
  {
   "cell_type": "markdown",
   "id": "0021690b",
   "metadata": {},
   "source": [
    "https://scikit-learn.org/stable/modules/generated/sklearn.linear_model.RANSACRegressor.html"
   ]
  },
  {
   "cell_type": "code",
   "execution_count": null,
   "id": "fa707a3c",
   "metadata": {
    "colab": {
     "base_uri": "https://localhost:8080/"
    },
    "id": "fa707a3c",
    "outputId": "4c432533-ebf7-4171-9066-6abe10ddaaf2"
   },
   "outputs": [],
   "source": [
    "regressor = RANSACRegressor()\n",
    "regressor.fit(X, y)"
   ]
  },
  {
   "cell_type": "code",
   "execution_count": null,
   "id": "4qs8O9COL7Fi",
   "metadata": {
    "colab": {
     "base_uri": "https://localhost:8080/"
    },
    "id": "4qs8O9COL7Fi",
    "outputId": "481b6aff-32d4-424e-d775-110bf95b8572"
   },
   "outputs": [],
   "source": [
    "regressor.score(X, y)"
   ]
  },
  {
   "cell_type": "markdown",
   "id": "TYXF6ja51hAu",
   "metadata": {
    "id": "TYXF6ja51hAu"
   },
   "source": [
    "## Plot Regression"
   ]
  },
  {
   "cell_type": "code",
   "execution_count": null,
   "id": "CJNu3mJR1Xv8",
   "metadata": {
    "colab": {
     "base_uri": "https://localhost:8080/",
     "height": 295
    },
    "id": "CJNu3mJR1Xv8",
    "outputId": "3a8b5304-4b43-47d3-fd30-b4b2d835fa52"
   },
   "outputs": [],
   "source": [
    "plt.scatter(X, y, color=\"yellowgreen\", marker=\".\")\n",
    "plt.plot(X, regressor.predict(X), color = 'blue')\n",
    "plt.title('Linear Regression')\n",
    "plt.xlabel('X')\n",
    "plt.ylabel('y')\n",
    "plt.grid(True)\n",
    "plt.show()"
   ]
  },
  {
   "cell_type": "markdown",
   "id": "zFi-goSV14BI",
   "metadata": {
    "id": "zFi-goSV14BI"
   },
   "source": [
    "## Making a single prediction"
   ]
  },
  {
   "cell_type": "code",
   "execution_count": null,
   "id": "C1XqL1od1X10",
   "metadata": {
    "colab": {
     "base_uri": "https://localhost:8080/"
    },
    "id": "C1XqL1od1X10",
    "outputId": "77056bb6-351c-4ea5-f789-629d33e73dfe"
   },
   "outputs": [],
   "source": [
    "regressor.predict([[0]])"
   ]
  },
  {
   "cell_type": "code",
   "execution_count": null,
   "id": "5ebce5ca",
   "metadata": {},
   "outputs": [],
   "source": []
  }
 ],
 "metadata": {
  "colab": {
   "provenance": []
  },
  "hide_input": false,
  "kernelspec": {
   "display_name": "Python 3 (ipykernel)",
   "language": "python",
   "name": "python3"
  },
  "language_info": {
   "codemirror_mode": {
    "name": "ipython",
    "version": 3
   },
   "file_extension": ".py",
   "mimetype": "text/x-python",
   "name": "python",
   "nbconvert_exporter": "python",
   "pygments_lexer": "ipython3",
   "version": "3.8.15"
  }
 },
 "nbformat": 4,
 "nbformat_minor": 5
}
