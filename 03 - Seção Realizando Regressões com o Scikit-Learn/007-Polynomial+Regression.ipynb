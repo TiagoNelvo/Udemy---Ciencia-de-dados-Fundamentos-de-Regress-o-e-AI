{
 "cells": [
  {
   "cell_type": "markdown",
   "id": "70d95c4e",
   "metadata": {
    "id": "70d95c4e"
   },
   "source": [
    "# Polynomial Regression\n"
   ]
  },
  {
   "cell_type": "markdown",
   "id": "caed6ca2",
   "metadata": {
    "id": "caed6ca2"
   },
   "source": [
    "### Importing the libraries"
   ]
  },
  {
   "cell_type": "code",
   "execution_count": null,
   "id": "70dc5a40",
   "metadata": {
    "id": "70dc5a40"
   },
   "outputs": [],
   "source": [
    "import numpy as np\n",
    "import pandas as pd\n",
    "import matplotlib.pyplot as plt"
   ]
  },
  {
   "cell_type": "markdown",
   "id": "7ec3d05f",
   "metadata": {
    "id": "7ec3d05f"
   },
   "source": [
    "### Importing Dataset"
   ]
  },
  {
   "cell_type": "code",
   "execution_count": null,
   "id": "8d3aee0c",
   "metadata": {
    "id": "8d3aee0c"
   },
   "outputs": [],
   "source": [
    "df = pd.read_excel('007-Dataset.xlsx')\n",
    "X = df.iloc[:, :-1].values\n",
    "y = df.iloc[:, -1].values"
   ]
  },
  {
   "cell_type": "code",
   "execution_count": null,
   "id": "a5490708",
   "metadata": {},
   "outputs": [],
   "source": [
    "df"
   ]
  },
  {
   "cell_type": "code",
   "execution_count": null,
   "id": "fb2298bd",
   "metadata": {},
   "outputs": [],
   "source": [
    "df.describe()"
   ]
  },
  {
   "cell_type": "markdown",
   "id": "7043b6b0",
   "metadata": {},
   "source": [
    "### Training the Polynomial Regression model on the whole dataset\n"
   ]
  },
  {
   "cell_type": "code",
   "execution_count": null,
   "id": "4d09376f",
   "metadata": {},
   "outputs": [],
   "source": [
    "from sklearn.preprocessing import PolynomialFeatures\n",
    "from sklearn.linear_model import LinearRegression"
   ]
  },
  {
   "cell_type": "markdown",
   "id": "30ec05ae",
   "metadata": {},
   "source": [
    "https://scikit-learn.org/stable/modules/generated/sklearn.preprocessing.PolynomialFeatures.html"
   ]
  },
  {
   "cell_type": "code",
   "execution_count": null,
   "id": "f0db013c",
   "metadata": {},
   "outputs": [],
   "source": [
    "poly_reg = PolynomialFeatures(degree = 2)\n",
    "X_poly = poly_reg.fit_transform(X)"
   ]
  },
  {
   "cell_type": "code",
   "execution_count": null,
   "id": "4c61ef27",
   "metadata": {},
   "outputs": [],
   "source": [
    "print(X_poly)"
   ]
  },
  {
   "cell_type": "code",
   "execution_count": null,
   "id": "fa707a3c",
   "metadata": {
    "colab": {
     "base_uri": "https://localhost:8080/"
    },
    "id": "fa707a3c",
    "outputId": "4c432533-ebf7-4171-9066-6abe10ddaaf2"
   },
   "outputs": [],
   "source": [
    "regressor = LinearRegression()\n",
    "regressor.fit(X_poly, y)"
   ]
  },
  {
   "cell_type": "code",
   "execution_count": null,
   "id": "4qs8O9COL7Fi",
   "metadata": {
    "colab": {
     "base_uri": "https://localhost:8080/"
    },
    "id": "4qs8O9COL7Fi",
    "outputId": "481b6aff-32d4-424e-d775-110bf95b8572"
   },
   "outputs": [],
   "source": [
    "regressor.score(X_poly, y)"
   ]
  },
  {
   "cell_type": "code",
   "execution_count": null,
   "id": "31fa387e",
   "metadata": {},
   "outputs": [],
   "source": [
    "y_pred = regressor.predict(poly_reg.fit_transform(X))\n",
    "np.set_printoptions(precision=2)\n",
    "print(np.concatenate((y_pred.reshape(len(y_pred),1), y.reshape(len(y),1)),1))"
   ]
  },
  {
   "cell_type": "code",
   "execution_count": null,
   "id": "2373bd3d",
   "metadata": {},
   "outputs": [],
   "source": [
    "print(regressor.coef_)\n",
    "print(regressor.intercept_)"
   ]
  },
  {
   "cell_type": "code",
   "execution_count": null,
   "id": "e57efe9e",
   "metadata": {},
   "outputs": [],
   "source": [
    "print(regressor.predict(poly_reg.fit_transform([[8]])))"
   ]
  },
  {
   "cell_type": "markdown",
   "id": "TYXF6ja51hAu",
   "metadata": {
    "id": "TYXF6ja51hAu"
   },
   "source": [
    "## Plot Regression"
   ]
  },
  {
   "cell_type": "code",
   "execution_count": null,
   "id": "CJNu3mJR1Xv8",
   "metadata": {
    "colab": {
     "base_uri": "https://localhost:8080/",
     "height": 295
    },
    "id": "CJNu3mJR1Xv8",
    "outputId": "3a8b5304-4b43-47d3-fd30-b4b2d835fa52",
    "scrolled": true
   },
   "outputs": [],
   "source": [
    "plt.scatter(X, y, color = 'red')\n",
    "plt.title('Polynomial Regression')\n",
    "plt.xlabel('X')\n",
    "plt.ylabel('y')\n",
    "X_grid = np.arange(min(X), max(X), 0.1)\n",
    "X_grid = X_grid.reshape((len(X_grid), 1))\n",
    "plt.plot(X_grid, regressor.predict(poly_reg.fit_transform(X_grid)), color = 'blue')\n",
    "plt.grid(True)\n",
    "plt.show()"
   ]
  },
  {
   "cell_type": "code",
   "execution_count": null,
   "id": "4a89955c",
   "metadata": {},
   "outputs": [],
   "source": []
  }
 ],
 "metadata": {
  "colab": {
   "provenance": []
  },
  "hide_input": false,
  "kernelspec": {
   "display_name": "Python 3 (ipykernel)",
   "language": "python",
   "name": "python3"
  },
  "language_info": {
   "codemirror_mode": {
    "name": "ipython",
    "version": 3
   },
   "file_extension": ".py",
   "mimetype": "text/x-python",
   "name": "python",
   "nbconvert_exporter": "python",
   "pygments_lexer": "ipython3",
   "version": "3.8.15"
  }
 },
 "nbformat": 4,
 "nbformat_minor": 5
}
