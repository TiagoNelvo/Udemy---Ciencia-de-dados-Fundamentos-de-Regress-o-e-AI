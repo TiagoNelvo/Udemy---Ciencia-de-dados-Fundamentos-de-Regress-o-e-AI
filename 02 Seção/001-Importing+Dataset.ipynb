{
 "cells": [
  {
   "cell_type": "markdown",
   "id": "70d95c4e",
   "metadata": {
    "id": "70d95c4e"
   },
   "source": [
    "# Importing Dataset and Making some simple Data Analysis"
   ]
  },
  {
   "cell_type": "markdown",
   "id": "caed6ca2",
   "metadata": {
    "id": "caed6ca2"
   },
   "source": [
    "## Importing basic libraries"
   ]
  },
  {
   "cell_type": "code",
   "execution_count": null,
   "id": "70dc5a40",
   "metadata": {
    "id": "70dc5a40"
   },
   "outputs": [],
   "source": [
    "import numpy as np\n",
    "import pandas as pd\n",
    "\n",
    "import matplotlib.pyplot as plt\n",
    "import seaborn as sns\n",
    "import plotly.express as px"
   ]
  },
  {
   "cell_type": "markdown",
   "id": "3d73ff0f",
   "metadata": {},
   "source": [
    "## Importing Dataset"
   ]
  },
  {
   "cell_type": "code",
   "execution_count": null,
   "id": "8d3aee0c",
   "metadata": {
    "id": "8d3aee0c"
   },
   "outputs": [],
   "source": [
    "df = pd.read_excel('001-Dataset.xlsx')"
   ]
  },
  {
   "cell_type": "markdown",
   "id": "f1431e77",
   "metadata": {},
   "source": [
    "## First look into your Dataset"
   ]
  },
  {
   "cell_type": "code",
   "execution_count": null,
   "id": "_J6WhKzz64WG",
   "metadata": {
    "id": "_J6WhKzz64WG"
   },
   "outputs": [],
   "source": [
    "df"
   ]
  },
  {
   "cell_type": "markdown",
   "id": "d96fdf40",
   "metadata": {},
   "source": [
    "## Dataset Describe"
   ]
  },
  {
   "cell_type": "markdown",
   "id": "8f702969",
   "metadata": {},
   "source": [
    "Descriptive statistics include those that summarize the central tendency, dispersion and shape of a dataset’s distribution, excluding NaN values"
   ]
  },
  {
   "cell_type": "code",
   "execution_count": null,
   "id": "38fbf631",
   "metadata": {},
   "outputs": [],
   "source": [
    "df.describe()"
   ]
  }
 ],
 "metadata": {
  "colab": {
   "provenance": []
  },
  "hide_input": false,
  "kernelspec": {
   "display_name": "Python 3 (ipykernel)",
   "language": "python",
   "name": "python3"
  },
  "language_info": {
   "codemirror_mode": {
    "name": "ipython",
    "version": 3
   },
   "file_extension": ".py",
   "mimetype": "text/x-python",
   "name": "python",
   "nbconvert_exporter": "python",
   "pygments_lexer": "ipython3",
   "version": "3.8.15"
  }
 },
 "nbformat": 4,
 "nbformat_minor": 5
}
